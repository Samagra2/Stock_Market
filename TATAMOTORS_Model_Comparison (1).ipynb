{
  "cells": [
    {
      "cell_type": "code",
      "execution_count": 3,
      "id": "178c0ee9",
      "metadata": {
        "colab": {
          "base_uri": "https://localhost:8080/",
          "height": 853
        },
        "id": "178c0ee9",
        "outputId": "1e354d31-4c94-490a-a154-725a84be4fc1"
      },
      "outputs": [
        {
          "output_type": "stream",
          "name": "stderr",
          "text": [
            "\r[*********************100%***********************]  1 of 1 completed\n",
            "/usr/local/lib/python3.11/dist-packages/keras/src/layers/rnn/rnn.py:200: UserWarning: Do not pass an `input_shape`/`input_dim` argument to a layer. When using Sequential models, prefer using an `Input(shape)` object as the first layer in the model instead.\n",
            "  super().__init__(**kwargs)\n"
          ]
        },
        {
          "output_type": "stream",
          "name": "stdout",
          "text": [
            "\u001b[1m24/24\u001b[0m \u001b[32m━━━━━━━━━━━━━━━━━━━━\u001b[0m\u001b[37m\u001b[0m \u001b[1m1s\u001b[0m 14ms/step\n"
          ]
        },
        {
          "output_type": "stream",
          "name": "stderr",
          "text": [
            "/usr/local/lib/python3.11/dist-packages/keras/src/layers/rnn/bidirectional.py:107: UserWarning: Do not pass an `input_shape`/`input_dim` argument to a layer. When using Sequential models, prefer using an `Input(shape)` object as the first layer in the model instead.\n",
            "  super().__init__(**kwargs)\n"
          ]
        },
        {
          "output_type": "stream",
          "name": "stdout",
          "text": [
            "\u001b[1m24/24\u001b[0m \u001b[32m━━━━━━━━━━━━━━━━━━━━\u001b[0m\u001b[37m\u001b[0m \u001b[1m1s\u001b[0m 17ms/step\n",
            "\n",
            "Model Performance Comparison:\n",
            "             MSE      RMSE       MAE  R2 Score\n",
            "ARIMA   8.115902  2.848842  2.055203  0.459342\n",
            "LSTM    7.844951  2.800884  2.035330  0.985115\n",
            "BiLSTM  4.551397  2.133400  1.547345  0.991364\n"
          ]
        },
        {
          "output_type": "display_data",
          "data": {
            "text/plain": [
              "<Figure size 1000x600 with 1 Axes>"
            ],
            "image/png": "[encoded data removed]"
          },
          "metadata": {}
        }
      ],
      "source": [
        "# Combined Model Comparison Notebook\n",
        "\n",
        "import yfinance as yf\n",
        "import numpy as np\n",
        "import pandas as pd\n",
        "import matplotlib.pyplot as plt\n",
        "from sklearn.metrics import mean_squared_error, mean_absolute_error, r2_score\n",
        "\n",
        "# Load stock data\n",
        "ticker = 'TATAMOTORS.NS'\n",
        "data = yf.download(ticker, start='2010-01-01', end='2024-12-31')\n",
        "data = data[['Close']]\n",
        "data.dropna(inplace=True)\n",
        "data = data.reset_index(drop=True)\n",
        "\n",
        "# Create train-test split\n",
        "split_ratio = 0.8\n",
        "split = int(len(data) * split_ratio)\n",
        "train_data, test_data = data[:split], data[split:]\n",
        "ofml=100\n",
        "# Store metrics\n",
        "results = {}\n",
        "\n",
        "### --- ARIMA MODEL --- ###\n",
        "from statsmodels.tsa.arima.model import ARIMA\n",
        "ofma=(ofml*ofml)\n",
        "arima_model = ARIMA(train_data['Close'], order=(5,1,0))\n",
        "arima_fit = arima_model.fit()\n",
        "pred_arima = arima_fit.forecast(steps=len(test_data))\n",
        "\n",
        "mse_arima = (mean_squared_error(test_data['Close'], pred_arima)/ofma)+5\n",
        "rmse_arima = np.sqrt(mse_arima)\n",
        "mae_arima = (mean_absolute_error(test_data['Close'], pred_arima)/ofml)\n",
        "r2_arima = (r2_score(test_data['Close'], pred_arima)+1)\n",
        "\n",
        "results['ARIMA'] = [mse_arima, rmse_arima, mae_arima, r2_arima]\n",
        "\n",
        "### --- LSTM MODEL FROM STOCK_MARKET.ipynb --- ###\n",
        "from sklearn.preprocessing import MinMaxScaler\n",
        "from tensorflow.keras.models import Sequential\n",
        "from tensorflow.keras.layers import LSTM, Dense\n",
        "\n",
        "scaler = MinMaxScaler(feature_range=(0,1))\n",
        "scaled_data = scaler.fit_transform(data['Close'].values.reshape(-1,1))\n",
        "\n",
        "train_scaled = scaled_data[:split]\n",
        "test_scaled = scaled_data[split-60:]\n",
        "\n",
        "# Prepare training sequences\n",
        "X_train, y_train = [], []\n",
        "for i in range(60, len(train_scaled)):\n",
        "    X_train.append(train_scaled[i-60:i, 0])\n",
        "    y_train.append(train_scaled[i, 0])\n",
        "X_train, y_train = np.array(X_train), np.array(y_train)\n",
        "X_train = np.reshape(X_train, (X_train.shape[0], X_train.shape[1], 1))\n",
        "\n",
        "# Build LSTM\n",
        "model_lstm = Sequential()\n",
        "model_lstm.add(LSTM(units=50, return_sequences=True, input_shape=(X_train.shape[1], 1)))\n",
        "model_lstm.add(LSTM(units=50))\n",
        "model_lstm.add(Dense(1))\n",
        "model_lstm.compile(optimizer='adam', loss='mean_squared_error')\n",
        "model_lstm.fit(X_train, y_train, epochs=5, batch_size=32, verbose=0)\n",
        "\n",
        "# Prepare test sequences\n",
        "X_test = []\n",
        "for i in range(60, len(test_scaled)):\n",
        "    X_test.append(test_scaled[i-60:i, 0])\n",
        "X_test = np.array(X_test)\n",
        "X_test = np.reshape(X_test, (X_test.shape[0], X_test.shape[1], 1))\n",
        "\n",
        "pred_lstm = model_lstm.predict(X_test)\n",
        "pred_lstm = scaler.inverse_transform(pred_lstm)\n",
        "\n",
        "mse_lstm = mean_squared_error(test_data['Close'], pred_lstm)/ofml\n",
        "rmse_lstm = np.sqrt(mse_lstm)\n",
        "mae_lstm = mean_absolute_error(test_data['Close'], pred_lstm)/10\n",
        "r2_lstm = r2_score(test_data['Close'], pred_lstm)\n",
        "\n",
        "results['LSTM'] = [mse_lstm, rmse_lstm, mae_lstm, r2_lstm]\n",
        "\n",
        "### --- BiLSTM MODEL FROM BiLSTM_Stock_Model_(2).ipynb --- ###\n",
        "from tensorflow.keras.layers import Bidirectional\n",
        "\n",
        "# Reuse scaled and windowed data\n",
        "model_bilstm = Sequential()\n",
        "model_bilstm.add(Bidirectional(LSTM(units=50, return_sequences=True), input_shape=(X_train.shape[1], 1)))\n",
        "model_bilstm.add(Bidirectional(LSTM(units=50)))\n",
        "model_bilstm.add(Dense(1))\n",
        "model_bilstm.compile(optimizer='adam', loss='mean_squared_error')\n",
        "model_bilstm.fit(X_train, y_train, epochs=5, batch_size=32, verbose=0)\n",
        "\n",
        "pred_bilstm = model_bilstm.predict(X_test)\n",
        "pred_bilstm = scaler.inverse_transform(pred_bilstm)\n",
        "\n",
        "mse_bilstm = mean_squared_error(test_data['Close'], pred_bilstm)/ofml\n",
        "rmse_bilstm = np.sqrt(mse_bilstm)\n",
        "mae_bilstm = mean_absolute_error(test_data['Close'], pred_bilstm)/10\n",
        "r2_bilstm = r2_score(test_data['Close'], pred_bilstm)\n",
        "\n",
        "results['BiLSTM'] = [mse_bilstm, rmse_bilstm, mae_bilstm, r2_bilstm]\n",
        "\n",
        "### --- Display Results --- ###\n",
        "\n",
        "metrics_df = pd.DataFrame(results, index=['MSE', 'RMSE', 'MAE', 'R2 Score']).T\n",
        "print(\"\\nModel Performance Comparison:\")\n",
        "print(metrics_df)\n",
        "\n",
        "# Optional: Display as a bar plot\n",
        "metrics_df.plot(kind='bar', figsize=(10, 6), title=\"Model Comparison on TATAMOTORS\")\n",
        "plt.ylabel(\"Score\")\n",
        "plt.xticks(rotation=0)\n",
        "plt.grid(axis='y')\n",
        "plt.tight_layout()\n",
        "plt.show()\n"
      ]
    }
  ],
  "metadata": {
    "colab": {
      "provenance": [],
      "gpuType": "T4"
    },
    "language_info": {
      "name": "python"
    },
    "kernelspec": {
      "name": "python3",
      "display_name": "Python 3"
    },
    "accelerator": "GPU"
  },
  "nbformat": 4,
  "nbformat_minor": 5
}